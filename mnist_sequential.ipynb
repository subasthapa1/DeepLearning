{
 "cells": [
  {
   "cell_type": "markdown",
   "id": "a1474c45",
   "metadata": {},
   "source": [
    "****1. Importing necessary libraries****"
   ]
  },
  {
   "cell_type": "code",
   "execution_count": 1,
   "id": "04110ca1",
   "metadata": {},
   "outputs": [],
   "source": [
    "import tensorflow as tf\n",
    "from tensorflow import keras\n",
    "from tensorflow.python.keras.metrics import Precision, Recall, BinaryAccuracy\n",
    "from tensorflow.keras import datasets, layers, models\n",
    "from tensorflow.keras.optimizers import SGD\n",
    "from keras.utils import to_categorical\n",
    "import pandas as pd\n",
    "import numpy as np\n",
    "import matplotlib.pyplot as plt\n",
    "from keras.datasets import mnist"
   ]
  },
  {
   "cell_type": "markdown",
   "id": "a88a8a6d",
   "metadata": {},
   "source": [
    "****2. Loading training and test data from the directory****"
   ]
  },
  {
   "cell_type": "code",
   "execution_count": 4,
   "id": "0548f899",
   "metadata": {},
   "outputs": [],
   "source": [
    "(train_x, train_y), (test_x, test_y) = mnist.load_data()"
   ]
  },
  {
   "cell_type": "code",
   "execution_count": 5,
   "id": "e6780d69",
   "metadata": {},
   "outputs": [
    {
     "name": "stdout",
     "output_type": "stream",
     "text": [
      "Training images shape: (60000, 28, 28)\n",
      "Test Images shape (10000, 28, 28)\n"
     ]
    }
   ],
   "source": [
    "#Printing the shape of train and test set images\n",
    "print('Training images shape:', train_x.shape)\n",
    "print('Test Images shape', test_x.shape)\n",
    "\n",
    "#Creating list for all numbers\n",
    "class_name =['0', '1','2','3','4','5','6', '7','8','9']"
   ]
  },
  {
   "cell_type": "markdown",
   "id": "c5ab61f1",
   "metadata": {},
   "source": [
    "****3. Visualizing Images using matplotlib****"
   ]
  },
  {
   "cell_type": "code",
   "execution_count": 6,
   "id": "3b21ba82",
   "metadata": {},
   "outputs": [
    {
     "data": {
      "image/png": "[encoded data removed]",
      "text/plain": [
       "<Figure size 640x480 with 6 Axes>"
      ]
     },
     "metadata": {},
     "output_type": "display_data"
    }
   ],
   "source": [
    "#Visualizing images from our train set\n",
    "for i in range(6):  \n",
    "    plt.subplot(2,3, i+1)\n",
    "    plt.xticks([])\n",
    "    plt.yticks([])\n",
    "    plt.grid(False)\n",
    "    plt.imshow(train_x[i], cmap=plt.get_cmap('gray'))\n",
    "    plt.xlabel(class_name[train_y[i]])\n",
    "plt.show()"
   ]
  },
  {
   "cell_type": "markdown",
   "id": "e4362a1a",
   "metadata": {},
   "source": [
    "****4. Scaling pixel values of images****"
   ]
  },
  {
   "cell_type": "code",
   "execution_count": 7,
   "id": "09f5b0ab",
   "metadata": {},
   "outputs": [],
   "source": [
    "train_x = train_x/255\n",
    "test_x = test_x/255"
   ]
  },
  {
   "cell_type": "code",
   "execution_count": 62,
   "id": "789d01d6",
   "metadata": {},
   "outputs": [],
   "source": [
    "#One hot encoding\n",
    "#n_classes = 10\n",
    "#train_y = to_categorical(train_y, n_classes)\n",
    "#test_y = to_categorical(test_y, n_classes)"
   ]
  },
  {
   "cell_type": "markdown",
   "id": "711ce081",
   "metadata": {},
   "source": [
    "****5. Building a sequential model****"
   ]
  },
  {
   "cell_type": "code",
   "execution_count": 29,
   "id": "37106ebb",
   "metadata": {},
   "outputs": [],
   "source": [
    "model = models.Sequential()\n",
    "model.add(layers.Conv2D(2, (3, 3), activation='relu', input_shape=(28, 28,1)))\n",
    "model.add(layers.MaxPooling2D((2, 2)))\n",
    "model.add(layers.Conv2D(2, (3, 3), activation='relu'))\n",
    "model.add(layers.MaxPooling2D((2, 2)))\n",
    "model.add(layers.Conv2D(2, (3, 3), activation='relu'))\n",
    "model.add(layers.Flatten())\n",
    "model.add(layers.Dropout(0.5))\n",
    "model.add(layers.Dense(15, activation='relu'))\n",
    "model.add(layers.Dense(10, activation='softmax'))"
   ]
  },
  {
   "cell_type": "code",
   "execution_count": 30,
   "id": "f1689e03",
   "metadata": {},
   "outputs": [
    {
     "name": "stdout",
     "output_type": "stream",
     "text": [
      "Model: \"sequential_4\"\n",
      "_________________________________________________________________\n",
      " Layer (type)                Output Shape              Param #   \n",
      "=================================================================\n",
      " conv2d_6 (Conv2D)           (None, 26, 26, 2)         20        \n",
      "                                                                 \n",
      " max_pooling2d_4 (MaxPooling  (None, 13, 13, 2)        0         \n",
      " 2D)                                                             \n",
      "                                                                 \n",
      " conv2d_7 (Conv2D)           (None, 11, 11, 2)         38        \n",
      "                                                                 \n",
      " max_pooling2d_5 (MaxPooling  (None, 5, 5, 2)          0         \n",
      " 2D)                                                             \n",
      "                                                                 \n",
      " conv2d_8 (Conv2D)           (None, 3, 3, 2)           38        \n",
      "                                                                 \n",
      " flatten_4 (Flatten)         (None, 18)                0         \n",
      "                                                                 \n",
      " dropout_2 (Dropout)         (None, 18)                0         \n",
      "                                                                 \n",
      " dense_8 (Dense)             (None, 15)                285       \n",
      "                                                                 \n",
      " dense_9 (Dense)             (None, 10)                160       \n",
      "                                                                 \n",
      "=================================================================\n",
      "Total params: 541\n",
      "Trainable params: 541\n",
      "Non-trainable params: 0\n",
      "_________________________________________________________________\n"
     ]
    }
   ],
   "source": [
    "#Printing summary of a model\n",
    "model.summary()"
   ]
  },
  {
   "cell_type": "markdown",
   "id": "cf50512e",
   "metadata": {},
   "source": [
    "****6. Training our model****"
   ]
  },
  {
   "cell_type": "code",
   "execution_count": 31,
   "id": "799385d6",
   "metadata": {},
   "outputs": [],
   "source": [
    "model.compile(optimizer='adam',\n",
    "              loss=tf.keras.losses.SparseCategoricalCrossentropy(from_logits=True),\n",
    "              metrics=['accuracy'])"
   ]
  },
  {
   "cell_type": "markdown",
   "id": "46eecec7",
   "metadata": {},
   "source": [
    "****7. Train the model for few number of iteration****"
   ]
  },
  {
   "cell_type": "code",
   "execution_count": 32,
   "id": "51d9e288",
   "metadata": {},
   "outputs": [
    {
     "name": "stdout",
     "output_type": "stream",
     "text": [
      "Epoch 1/15\n",
      "1875/1875 [==============================] - 11s 5ms/step - loss: 1.6283 - accuracy: 0.4206 - val_loss: 0.9033 - val_accuracy: 0.7694\n",
      "Epoch 2/15\n",
      "1875/1875 [==============================] - 9s 5ms/step - loss: 1.2877 - accuracy: 0.5536 - val_loss: 0.7862 - val_accuracy: 0.8083\n",
      "Epoch 3/15\n",
      "1875/1875 [==============================] - 10s 5ms/step - loss: 1.2449 - accuracy: 0.5716 - val_loss: 0.7338 - val_accuracy: 0.8155\n",
      "Epoch 4/15\n",
      "1875/1875 [==============================] - 10s 6ms/step - loss: 1.2047 - accuracy: 0.5841 - val_loss: 0.7298 - val_accuracy: 0.8239\n",
      "Epoch 5/15\n",
      "1875/1875 [==============================] - 10s 6ms/step - loss: 1.1905 - accuracy: 0.5913 - val_loss: 0.7274 - val_accuracy: 0.8250\n",
      "Epoch 6/15\n",
      "1875/1875 [==============================] - 11s 6ms/step - loss: 1.1702 - accuracy: 0.5963 - val_loss: 0.6964 - val_accuracy: 0.8266\n",
      "Epoch 7/15\n",
      "1875/1875 [==============================] - 11s 6ms/step - loss: 1.1617 - accuracy: 0.5989 - val_loss: 0.6867 - val_accuracy: 0.8225\n",
      "Epoch 8/15\n",
      "1875/1875 [==============================] - 11s 6ms/step - loss: 1.1470 - accuracy: 0.6049 - val_loss: 0.6653 - val_accuracy: 0.8253\n",
      "Epoch 9/15\n",
      "1875/1875 [==============================] - 10s 6ms/step - loss: 1.1369 - accuracy: 0.6081 - val_loss: 0.6949 - val_accuracy: 0.8232\n",
      "Epoch 10/15\n",
      "1875/1875 [==============================] - 10s 6ms/step - loss: 1.1274 - accuracy: 0.6101 - val_loss: 0.6681 - val_accuracy: 0.8254\n",
      "Epoch 11/15\n",
      "1875/1875 [==============================] - 11s 6ms/step - loss: 1.1279 - accuracy: 0.6114 - val_loss: 0.6750 - val_accuracy: 0.8208\n",
      "Epoch 12/15\n",
      "1875/1875 [==============================] - 11s 6ms/step - loss: 1.1166 - accuracy: 0.6166 - val_loss: 0.7069 - val_accuracy: 0.8105\n",
      "Epoch 13/15\n",
      "1875/1875 [==============================] - 11s 6ms/step - loss: 1.1125 - accuracy: 0.6153 - val_loss: 0.6634 - val_accuracy: 0.8195\n",
      "Epoch 14/15\n",
      "1875/1875 [==============================] - 11s 6ms/step - loss: 1.1015 - accuracy: 0.6203 - val_loss: 0.6592 - val_accuracy: 0.8177\n",
      "Epoch 15/15\n",
      "1875/1875 [==============================] - 12s 6ms/step - loss: 1.0960 - accuracy: 0.6250 - val_loss: 0.6969 - val_accuracy: 0.8078\n"
     ]
    }
   ],
   "source": [
    "tf_callback = tf.keras.callbacks.TensorBoard(log_dir='./Log/')\n",
    "tf_history = model.fit(train_x, train_y, epochs=15, \n",
    "                    validation_data=(test_x, test_y), callbacks=[tf_callback])"
   ]
  },
  {
   "cell_type": "code",
   "execution_count": 33,
   "id": "72090e42",
   "metadata": {},
   "outputs": [
    {
     "data": {
      "text/plain": [
       "{'loss': [1.6283214092254639,\n",
       "  1.2876722812652588,\n",
       "  1.2448500394821167,\n",
       "  1.2046995162963867,\n",
       "  1.190511703491211,\n",
       "  1.1701580286026,\n",
       "  1.1617215871810913,\n",
       "  1.1469621658325195,\n",
       "  1.1369202136993408,\n",
       "  1.1273608207702637,\n",
       "  1.1278624534606934,\n",
       "  1.1166373491287231,\n",
       "  1.112475037574768,\n",
       "  1.1014937162399292,\n",
       "  1.0959964990615845],\n",
       " 'accuracy': [0.4205833375453949,\n",
       "  0.5535500049591064,\n",
       "  0.5716333389282227,\n",
       "  0.5841333270072937,\n",
       "  0.5912833213806152,\n",
       "  0.5962833166122437,\n",
       "  0.5988666415214539,\n",
       "  0.6048833131790161,\n",
       "  0.6080833077430725,\n",
       "  0.6101333498954773,\n",
       "  0.6114333271980286,\n",
       "  0.6165500283241272,\n",
       "  0.6152833104133606,\n",
       "  0.6202999949455261,\n",
       "  0.625],\n",
       " 'val_loss': [0.9032763838768005,\n",
       "  0.7862229347229004,\n",
       "  0.7337611317634583,\n",
       "  0.7297889590263367,\n",
       "  0.7273809909820557,\n",
       "  0.6963961720466614,\n",
       "  0.6866809129714966,\n",
       "  0.6652898192405701,\n",
       "  0.6948890089988708,\n",
       "  0.6681060791015625,\n",
       "  0.674984872341156,\n",
       "  0.7068659663200378,\n",
       "  0.6633924245834351,\n",
       "  0.659186601638794,\n",
       "  0.6969238519668579],\n",
       " 'val_accuracy': [0.7694000005722046,\n",
       "  0.8083000183105469,\n",
       "  0.815500020980835,\n",
       "  0.8238999843597412,\n",
       "  0.824999988079071,\n",
       "  0.8266000151634216,\n",
       "  0.8224999904632568,\n",
       "  0.8252999782562256,\n",
       "  0.823199987411499,\n",
       "  0.8253999948501587,\n",
       "  0.8208000063896179,\n",
       "  0.8105000257492065,\n",
       "  0.8195000290870667,\n",
       "  0.8177000284194946,\n",
       "  0.8077999949455261]}"
      ]
     },
     "execution_count": 33,
     "metadata": {},
     "output_type": "execute_result"
    }
   ],
   "source": [
    "tf_history.history"
   ]
  },
  {
   "cell_type": "markdown",
   "id": "95e4d981",
   "metadata": {},
   "source": [
    "****Plotting validation and training Loss****"
   ]
  },
  {
   "cell_type": "code",
   "execution_count": 34,
   "id": "99dab74a",
   "metadata": {},
   "outputs": [
    {
     "data": {
      "image/png": "[encoded data removed]",
      "text/plain": [
       "<Figure size 640x480 with 1 Axes>"
      ]
     },
     "metadata": {},
     "output_type": "display_data"
    }
   ],
   "source": [
    "fig = plt.figure()\n",
    "plt.plot(tf_history.history['loss'], color='teal', label='loss')\n",
    "plt.plot(tf_history.history['val_loss'], color='orange', label='val_loss')\n",
    "fig.suptitle('Loss', fontsize=20)\n",
    "plt.legend(loc='upper left')\n",
    "plt.show()"
   ]
  },
  {
   "cell_type": "markdown",
   "id": "cb5e06f4",
   "metadata": {},
   "source": [
    "****Plotting validation and training accuracy****"
   ]
  },
  {
   "cell_type": "code",
   "execution_count": 35,
   "id": "c307dbd3",
   "metadata": {},
   "outputs": [
    {
     "data": {
      "image/png": "[encoded data removed]",
      "text/plain": [
       "<Figure size 640x480 with 1 Axes>"
      ]
     },
     "metadata": {},
     "output_type": "display_data"
    }
   ],
   "source": [
    "fig = plt.figure()\n",
    "plt.plot(tf_history.history['accuracy'], color='teal', label='loss')\n",
    "plt.plot(tf_history.history['val_accuracy'], color='orange', label='val_loss')\n",
    "fig.suptitle('Accuracy', fontsize=20)\n",
    "plt.legend(loc='upper left')\n",
    "plt.show()"
   ]
  },
  {
   "cell_type": "markdown",
   "id": "1652c7bf",
   "metadata": {},
   "source": [
    "****Reading image using cv2 library****"
   ]
  },
  {
   "cell_type": "code",
   "execution_count": 36,
   "id": "62944f97",
   "metadata": {},
   "outputs": [
    {
     "data": {
      "image/png": "[encoded data removed]",
      "text/plain": [
       "<Figure size 640x480 with 1 Axes>"
      ]
     },
     "metadata": {},
     "output_type": "display_data"
    }
   ],
   "source": [
    "import cv2\n",
    "img = cv2.imread('mnist-four.png')\n",
    "plt.imshow(img)\n",
    "plt.show()"
   ]
  },
  {
   "cell_type": "code",
   "execution_count": 39,
   "id": "fe979497",
   "metadata": {},
   "outputs": [
    {
     "data": {
      "image/png": "[encoded data removed]",
      "text/plain": [
       "<Figure size 640x480 with 1 Axes>"
      ]
     },
     "metadata": {},
     "output_type": "display_data"
    },
    {
     "data": {
      "text/plain": [
       "TensorShape([28, 28, 3])"
      ]
     },
     "execution_count": 39,
     "metadata": {},
     "output_type": "execute_result"
    }
   ],
   "source": [
    "resize = tf.image.resize(img, (28,28))\n",
    "plt.imshow(resize.numpy().astype(int))\n",
    "plt.show()\n",
    "resize.shape"
   ]
  },
  {
   "cell_type": "code",
   "execution_count": 43,
   "id": "a62593f1",
   "metadata": {},
   "outputs": [
    {
     "name": "stdout",
     "output_type": "stream",
     "text": [
      "(28, 28, 1)\n",
      "1/1 [==============================] - 0s 14ms/step\n",
      "[[0.0000000e+00 0.0000000e+00 0.0000000e+00 0.0000000e+00 5.8098784e-30\n",
      "  0.0000000e+00 1.0000000e+00 0.0000000e+00 0.0000000e+00 0.0000000e+00]]\n"
     ]
    }
   ],
   "source": [
    "image = tf.keras.utils.load_img('mnist-four.png', grayscale=True, target_size=(28,28))\n",
    "input_arr = tf.keras.utils.img_to_array(image)\n",
    "print(input_arr.shape)\n",
    "input_arr = np.array([input_arr])  # Convert single image to a batch.\n",
    "predictions = model.predict(input_arr)\n",
    "print(predictions)"
   ]
  },
  {
   "cell_type": "markdown",
   "id": "8260e29c",
   "metadata": {},
   "source": [
    "**Simple linear module without Maxpooling layers**"
   ]
  },
  {
   "cell_type": "code",
   "execution_count": 3,
   "id": "a6ed550d",
   "metadata": {},
   "outputs": [],
   "source": [
    "model1 = tf.keras.models.Sequential([\n",
    "tf.keras.layers.Flatten(input_shape=(28,28,1)),\n",
    "tf.keras.layers.Dense(128, activation='relu'),\n",
    "tf.keras.layers.Dense(10, activation='softmax')\n",
    "])\n",
    "\n",
    "model1.compile(loss='categorical_crossentropy', optimizer='rmsprop')"
   ]
  },
  {
   "cell_type": "code",
   "execution_count": null,
   "id": "96d2af49",
   "metadata": {},
   "outputs": [],
   "source": []
  }
 ],
 "metadata": {
  "kernelspec": {
   "display_name": "Python 3 (ipykernel)",
   "language": "python",
   "name": "python3"
  },
  "language_info": {
   "codemirror_mode": {
    "name": "ipython",
    "version": 3
   },
   "file_extension": ".py",
   "mimetype": "text/x-python",
   "name": "python",
   "nbconvert_exporter": "python",
   "pygments_lexer": "ipython3",
   "version": "3.8.0"
  }
 },
 "nbformat": 4,
 "nbformat_minor": 5
}
